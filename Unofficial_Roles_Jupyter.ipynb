{
 "cells": [
  {
   "cell_type": "markdown",
   "metadata": {},
   "source": [
    "# Network Tool - Unofficial Role Identifier"
   ]
  },
  {
   "cell_type": "markdown",
   "metadata": {},
   "source": [
    "### Context\n",
    "\n",
    "Research, e.g. [Kraut et al](http://kraut.hciresearch.org/sites/kraut.hciresearch.org/files/open/kraut90-InformalCommInOrgs.pdf), indicates that informal organisational-networks play an important role in facilitating productive and efficient organisational processes. As these networks are not defined within a clear organisational hierarchy, however, developing an understanding of how staff interact informally is challenging to achieve. This tool seeks to clarify this uncertainty, through the utilization of interaction-based data, to identify the informal roles that staff appear to be occupying.\n",
    "\n",
    "Building on research by [Harris & Nelson](https://books.google.co.uk/books/about/Applied_Organizational_Communication.html?id=9s6OAgAAQBAJ&redir_esc=y), this tool was designed to identify five key informal roles within staff networks: \n",
    "\n",
    "* Organizer - This role is concerned with individuals that link different groups across organisational-networks. Project-managers are a quintessential example of this role, as these individuals often traverse numerous organisational-communities in order to spread information and manage tasks across project-networks.\n",
    "\n",
    "\n",
    "* Gatekeeper - Gatekeepers are the individuals that facilitate and mediate an effective flow of information across communication-networks. If a teams delivery-manager, for example, is the only individual within that team frequently interacting with a wider organisational network, this indivdual would act as the gatekeeper of information to their team.\n",
    "\n",
    "\n",
    "* Stars - These individuals are at the heart of organisational communities, and often have significant influence with fellow community-members. Stars can potentially be team-managers, however these individuals may also not have a determined official role. Essentially a star is an individual with strong community-presence, whether that presence if formal or informal.\n",
    "\n",
    "\n",
    "* Isolates - As the name suggests, these are individuals who do not need to communicate within a wider organisational-network to carry out their work. A contractor who only converses with a specific team-member, for example, can be regarded as an isolate. These individuals are important to identify, as they are likely last to be reached by information flowing through a network.\n",
    "\n",
    "\n",
    "* Members - Group-members are individuals that are non-identifiable in the context of the other roles listed, and individually do not have as much potential to impact network efficiency like other identified roles.\n",
    "\n",
    "\n",
    "\n"
   ]
  },
  {
   "cell_type": "markdown",
   "metadata": {},
   "source": [
    "### Methodology\n",
    "\n",
    "The Enron email-corpus was used for constructing this tool, as to my knowledge this is the only open-source dataset containing comprehensive information relating to internal organisational communication. This dataset contains around 500,000 emails from Enron staff between 1998-2002, and was released as part of a fraud investigation of Enron after its liquidation in 2002. \n",
    "\n",
    "The tools functioning is based on a variety of metrics relevant to network-science, which can be used to evaluate the importance and characteristics of actors within constructed networks. Before development, an extensive period of time was dedicated to examining which particular metrics would be most informative in the context of this research. Research by [Schwartz and Jacobson](https://www.sciencedirect.com/science/article/pii/0030507377900265), for example, helped contextualize the organisational importance of the roles mentioned above, while lectures from [DH Chau](http://poloclub.gatech.edu/cse6242/2014spring/lectures/CSE6242-20140218-GraphsAlgoApp.pdf) helped inform which network-based metrics would be most appropriate for role-identification. \n",
    "\n",
    "The tool is Python-based, and utilizes packages which specialize in network-science. NetworkX, especially, provided a package which contained a multitude of different metrics and techniques utilized by this research. \n"
   ]
  },
  {
   "cell_type": "markdown",
   "metadata": {},
   "source": [
    "### Uses\n",
    "\n",
    "This tool is warranted, as it can assist in answering key questions regarding organizational dynamics, including:\n",
    "\n",
    "* Who are the key players in the network, officially and informally?\n",
    "\n",
    "* Which staff have more of an influence on internal-communication networks than others?\n",
    "\n",
    "* Is information within the network spreading efficiently?\n",
    "\n",
    "Essentially, this tool seeks to provide decision-makers with a data-driven understanding of organisational dynamics, which can be used to build on their current understanding of how organisational interaction is taking place. Therefore, this tool should not be considered as a replacement of an organisational map, but as a point of reference to evaluate if current organisational process is effective."
   ]
  },
  {
   "cell_type": "markdown",
   "metadata": {},
   "source": [
    "## Workings\n",
    "\n",
    "The functioning of this tool will now be discussed in terms of the techniques used to identify informal roles, and how the output of these identifications link together. A detailed discussion of tool parameters, such as choice of algorithms, can be found after the code section."
   ]
  },
  {
   "cell_type": "markdown",
   "metadata": {},
   "source": [
    "#### Packages & Input-Data\n",
    "\n",
    "1. Import packages\n",
    "2. Import graph data\n",
    "\n",
    "\n",
    "Four packages were used for construction of the tool, networkx, community, pandas, and operator. The former packages were used for network-based functioning, while the latter packages are involved in more general functioning throughout the script.\n",
    "\n",
    "\n",
    "Data to be used with this tool should be formatted in the following way: Source Node, Target Node, Weight. Source and Target refer to who is sending and receiving the emails, whereas Weight refers to the quantity of emails between two particular individuals. Interactions should not be combined for both nodes, but instead seperated into the formats of a>b, and b<a."
   ]
  },
  {
   "cell_type": "code",
   "execution_count": null,
   "metadata": {},
   "outputs": [],
   "source": [
    "import networkx as nx\n",
    "from community import community_louvain\n",
    "import pandas as pd\n",
    "import operator\n",
    "G = nx.read_weighted_edgelist('Only_50_Employees1.csv', delimiter=',', create_using = nx.DiGraph(), nodetype=str)"
   ]
  },
  {
   "cell_type": "markdown",
   "metadata": {},
   "source": [
    "#### Organizers\n",
    "\n",
    "1. Run organizer measures\n",
    "\n",
    "\n",
    "Initial research identified several key metrics which could help identify organizers within networks: \n",
    "\n",
    "\n",
    "* Betweenness-centrality: A measure of how many of the shortest paths in a network flow through a particular node. If a node has high betweenness-centrality, it indicates that this node is very central in the network structure, and is therefore more likely to be an interaction hub.\n",
    "\n",
    "\n",
    "* Eigenvector Centrality: A measure of a nodes number of connections, which more weight given to nodes whose connections are to other important nodes. This metric is useful, as organizers are likely to interact extensivley with other hub-based nodes, such as senior-managers or delivery-managers.\n",
    "\n",
    "\n",
    "* PageRank: This measure was created by Google, and is used to rank the importance of websites which appear in Google search results. Essentially, the algorithm uses a probability distribution to represent the likelihood that a given signal travelling through a network will end up at a particular node, with a nodes score determined as the probability of landing there if the signal was randomly stopped. "
   ]
  },
  {
   "cell_type": "code",
   "execution_count": null,
   "metadata": {},
   "outputs": [],
   "source": [
    "betweenness_score = dict(nx.betweenness_centrality(G))\n",
    "eigen_score = dict(nx.eigenvector_centrality(G))\n",
    "page_score = dict(nx.pagerank(G))"
   ]
  },
  {
   "cell_type": "markdown",
   "metadata": {},
   "source": [
    "As each of these metrics can face pitfalls, especially in the context of local minima, it was decided to combine the three into an overall score, which together would be less susceptible to minima than one metric alone.\n",
    "\n",
    "1. Integrate the three metric values into one dataframe\n",
    "2. To avoid scale-bias, standardize all values and turn positive by adding 1\n",
    "3. Combining the standardized metrics into one overall score\n",
    "4. Return this overall score to a dictionary"
   ]
  },
  {
   "cell_type": "code",
   "execution_count": null,
   "metadata": {},
   "outputs": [],
   "source": [
    "mydicts = [page_score, betweenness_score, eigen_score]\n",
    "df = pd.concat([pd.Series(d) for d in mydicts], axis=1).fillna(0).T\n",
    "df.index = ['page_score', 'betweenness_score', 'eigen_score']\n",
    "df = df.transpose()\n",
    "del page_score, eigen_score, betweenness_score, mydicts\n",
    "df = (df - df.mean()) / (df.max() - df.min())\n",
    "minus_columns = ['page_score', 'betweenness_score', 'eigen_score']\n",
    "df = df[minus_columns] + 1\n",
    "df['score'] = df['page_score'] + df['betweenness_score'] + df['eigen_score']\n",
    "del df['page_score'], df['betweenness_score'], df['eigen_score']\n",
    "score_dict = df['score'].to_dict()"
   ]
  },
  {
   "cell_type": "markdown",
   "metadata": {},
   "source": [
    "To allow for scalability, a percentage function was created which returns the top x% of the highest scoring nodes in the organizer dictionary. The value is currently set to 10%, however this can be changed to suit organisational practice, or the size of the network.\n",
    "\n",
    "1. Create percentage function\n",
    "2. Sort dictionary and return top 10%\n",
    "3. Appoint determined nodes with a score of 0, to indicate organizer"
   ]
  },
  {
   "cell_type": "code",
   "execution_count": null,
   "metadata": {},
   "outputs": [],
   "source": [
    "n = int(len(score_dict) * 0.10)\n",
    "organizer_dict = dict(sorted(score_dict.items(), key=operator.itemgetter(1), reverse=True)[:n])\n",
    "organizer_dict = {x: 0 for x in organizer_dict}\n",
    "del score_dict, df, n, minus_columns"
   ]
  },
  {
   "cell_type": "markdown",
   "metadata": {},
   "source": [
    "#### Gatekeepers\n",
    "\n",
    "The networkx 'bridges' function was used to find gatekeepers, as this returns the links within the network which if removed would result in the network splitting into different sub-structures. The function returns the format a>b, with a being the node connected to the larger sub-structure.\n",
    "\n",
    "1. Find bridges in the network\n",
    "2. Remove node b for all bridges (the more isolated node)\n",
    "3. Remove all nodes already found for the organizer role\n",
    "4. Create a code of 1 to identify gatekeepers by"
   ]
  },
  {
   "cell_type": "code",
   "execution_count": null,
   "metadata": {},
   "outputs": [],
   "source": [
    "G = nx.read_weighted_edgelist('Only_50_Employees1.csv', delimiter=',', create_using = nx.Graph(), nodetype=str)\n",
    "gatekeeper = dict(nx.bridges(G))\n",
    "gatekeeper_dict = {k: v for k, v in gatekeeper.items() if k not in organizer_dict}\n",
    "gatekeeper_dict = {x: 1 for x in gatekeeper_dict}\n",
    "del gatekeeper"
   ]
  },
  {
   "cell_type": "markdown",
   "metadata": {},
   "source": [
    "#### Stars\n",
    "To find stars, the overall graph was partitioned using a community detection algorithm (See Appendix 1.1), and then the node with the largest number of links for each community is returned.\n",
    "\n",
    "1. Partition communities into disconnected sub-graphs\n",
    "2. Find the node with the highest degree for each community\n",
    "3. Incorporate all highest-degree nodes into a dictionary\n",
    "4. Remove nodes already identified in the organizer and gatekeeper sections"
   ]
  },
  {
   "cell_type": "code",
   "execution_count": null,
   "metadata": {},
   "outputs": [],
   "source": [
    "part = community_louvain.best_partition(G)                                                     \n",
    "def invert(d):                                          \n",
    "    r = {}\n",
    "    for k, v in d.items():\n",
    "        r.setdefault(v, []).append(k)\n",
    "    return r\n",
    "invert_partition = invert(part)\n",
    "star_dict = {}        # iterate over each community\n",
    "for community_id in invert_partition.keys():                                                   \n",
    "    temp_graph = G.subgraph(invert_partition[community_id])\n",
    "    temp_degree = dict(temp_graph.degree())                                                   \n",
    "    star_dict[community_id] = max(temp_degree, key=lambda x: temp_degree[x])                   \n",
    "star_dict = dict((v,k) for k,v in sorted(star_dict.items(), key=operator.itemgetter(1)))\n",
    "star_dict = {k: v for k, v in star_dict.items() if k not in organizer_dict}\n",
    "star_dict = {k: v for k, v in star_dict.items() if k not in gatekeeper_dict}\n",
    "star_dict = {x: 2 for x in star_dict}\n",
    "del community_id, invert_partition, part, temp_degree"
   ]
  },
  {
   "cell_type": "markdown",
   "metadata": {},
   "source": [
    "#### Isolates\n",
    "Isolated nodes were found by creating a function which creates a dictionary of all nodes with <= 1 link in the network.\n",
    "\n",
    "1. Find the degree for all network nodes\n",
    "2. Remove all nodes with a degree of <= 1"
   ]
  },
  {
   "cell_type": "code",
   "execution_count": null,
   "metadata": {},
   "outputs": [],
   "source": [
    "isolate_dict = dict(G.degree())\n",
    "isolate_dict = {key:val for key, val in isolate_dict.items() if val == 1 or 0}\n",
    "isolate_dict = {x: 3 for x in isolate_dict}"
   ]
  },
  {
   "cell_type": "markdown",
   "metadata": {},
   "source": [
    "#### Final Merge\n",
    "\n",
    "Lastly, a function is used to combine all returned roles into one dictionary."
   ]
  },
  {
   "cell_type": "code",
   "execution_count": null,
   "metadata": {},
   "outputs": [],
   "source": [
    "final_roles = {**organizer_dict, **gatekeeper_dict, **star_dict, **isolate_dict}\n",
    "del organizer_dict, gatekeeper_dict, star_dict, isolate_dict"
   ]
  },
  {
   "cell_type": "markdown",
   "metadata": {},
   "source": [
    "#### Appendix 1.1 - Community Detection Algorithms\n",
    "Numerous algorithms exist which could be used for community detection within the Star section, a full list of which can be found [here](http://igraph.org/c/doc/igraph-Community.html). To determine the most appropriate partioning method, this research aimed to optimize graph modularity, which is essentially a measure of how inter-related communication is among different groups within a network.\n",
    "\n",
    "Iterativley, each community-detection algorithm was implemented, and the modularity score for each was recorded. Additionally, the amount of different partitions each module produced was also noted, which ranged from 4 to 13. Overall, it was determined that the Louvain method was the best-match for the tool, for several reasons. Primarily, the Louvain method returned the highest modularity score for all algorithms tests (0.543 for Louvain, 0.442 for nearest algorithm). Secondly, Louvain was also selected as it produced a good amount of communities relative to the small dataset(6), while other methods were producing up to 13."
   ]
  },
  {
   "cell_type": "markdown",
   "metadata": {},
   "source": [
    "#### Appendix 1.2 - Information regarding algorithms used\n",
    "\n",
    "[Betweenness Centrality](https://en.wikipedia.org/wiki/Betweenness_centrality)\n",
    "    \n",
    "[PageRank](https://en.wikipedia.org/wiki/PageRank)\n",
    "    \n",
    "[Eigenvector](https://en.wikipedia.org/wiki/Eigenvector_centrality)\n",
    "    \n",
    "[Modularity](https://en.wikipedia.org/wiki/Modularity_(networks)\n",
    "\n",
    "[Louvain](https://en.wikipedia.org/wiki/Louvain_Modularity)"
   ]
  },
  {
   "cell_type": "code",
   "execution_count": null,
   "metadata": {},
   "outputs": [],
   "source": []
  }
 ],
 "metadata": {
  "kernelspec": {
   "display_name": "Python 3",
   "language": "python",
   "name": "python3"
  },
  "language_info": {
   "codemirror_mode": {
    "name": "ipython",
    "version": 3
   },
   "file_extension": ".py",
   "mimetype": "text/x-python",
   "name": "python",
   "nbconvert_exporter": "python",
   "pygments_lexer": "ipython3",
   "version": "3.6.5"
  }
 },
 "nbformat": 4,
 "nbformat_minor": 2
}
